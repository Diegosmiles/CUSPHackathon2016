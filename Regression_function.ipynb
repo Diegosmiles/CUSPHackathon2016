{
 "cells": [
  {
   "cell_type": "code",
   "execution_count": 3,
   "metadata": {
    "collapsed": true
   },
   "outputs": [],
   "source": [
    "import pandas as pd\n",
    "import numpy as np\n",
    "import random\n",
    "from sklearn import linear_model"
   ]
  },
  {
   "cell_type": "code",
   "execution_count": 4,
   "metadata": {
    "collapsed": false
   },
   "outputs": [
    {
     "name": "stderr",
     "output_type": "stream",
     "text": [
      "C:\\Users\\Marco\\Anaconda\\lib\\site-packages\\pandas\\io\\parsers.py:1170: DtypeWarning: Columns (9) have mixed types. Specify dtype option on import or set low_memory=False.\n",
      "  data = self._reader.read(nrows)\n"
     ]
    },
    {
     "data": {
      "text/html": [
       "<div>\n",
       "<table border=\"1\" class=\"dataframe\">\n",
       "  <thead>\n",
       "    <tr style=\"text-align: right;\">\n",
       "      <th></th>\n",
       "      <th>Unnamed: 0</th>\n",
       "      <th>Unique Key</th>\n",
       "      <th>Created Date</th>\n",
       "      <th>Closed Date</th>\n",
       "      <th>Agency</th>\n",
       "      <th>Agency Name</th>\n",
       "      <th>Complaint Type</th>\n",
       "      <th>Descriptor</th>\n",
       "      <th>Location Type</th>\n",
       "      <th>Incident Zip</th>\n",
       "      <th>Resolution Description</th>\n",
       "      <th>Created_TO</th>\n",
       "      <th>Closed_TO</th>\n",
       "      <th>delta</th>\n",
       "      <th>difference</th>\n",
       "    </tr>\n",
       "  </thead>\n",
       "  <tbody>\n",
       "    <tr>\n",
       "      <th>0</th>\n",
       "      <td>0</td>\n",
       "      <td>33022454</td>\n",
       "      <td>03/31/2016 02:10:00 AM</td>\n",
       "      <td>03/31/2016 02:30:31 AM</td>\n",
       "      <td>NYPD</td>\n",
       "      <td>New York City Police Department</td>\n",
       "      <td>Illegal Parking</td>\n",
       "      <td>Commercial Overnight Parking</td>\n",
       "      <td>Street/Sidewalk</td>\n",
       "      <td>11204</td>\n",
       "      <td>The Police Department responded to the complai...</td>\n",
       "      <td>2016-03-31 02:10:00</td>\n",
       "      <td>2016-03-31 02:30:31</td>\n",
       "      <td>0 days 00:20:31.000000000</td>\n",
       "      <td>20.516667</td>\n",
       "    </tr>\n",
       "    <tr>\n",
       "      <th>1</th>\n",
       "      <td>1</td>\n",
       "      <td>33023558</td>\n",
       "      <td>03/31/2016 01:48:58 AM</td>\n",
       "      <td>03/31/2016 03:02:20 AM</td>\n",
       "      <td>NYPD</td>\n",
       "      <td>New York City Police Department</td>\n",
       "      <td>Illegal Parking</td>\n",
       "      <td>Blocked Hydrant</td>\n",
       "      <td>Street/Sidewalk</td>\n",
       "      <td>11367</td>\n",
       "      <td>The Police Department responded and upon arriv...</td>\n",
       "      <td>2016-03-31 01:48:58</td>\n",
       "      <td>2016-03-31 03:02:20</td>\n",
       "      <td>0 days 01:13:22.000000000</td>\n",
       "      <td>73.366667</td>\n",
       "    </tr>\n",
       "    <tr>\n",
       "      <th>2</th>\n",
       "      <td>2</td>\n",
       "      <td>33024431</td>\n",
       "      <td>03/31/2016 01:43:32 AM</td>\n",
       "      <td>03/31/2016 01:55:13 AM</td>\n",
       "      <td>NYPD</td>\n",
       "      <td>New York City Police Department</td>\n",
       "      <td>Noise - Commercial</td>\n",
       "      <td>Banging/Pounding</td>\n",
       "      <td>Club/Bar/Restaurant</td>\n",
       "      <td>10009</td>\n",
       "      <td>The Police Department responded to the complai...</td>\n",
       "      <td>2016-03-31 01:43:32</td>\n",
       "      <td>2016-03-31 01:55:13</td>\n",
       "      <td>0 days 00:11:41.000000000</td>\n",
       "      <td>11.683333</td>\n",
       "    </tr>\n",
       "    <tr>\n",
       "      <th>3</th>\n",
       "      <td>3</td>\n",
       "      <td>33024039</td>\n",
       "      <td>03/31/2016 01:42:59 AM</td>\n",
       "      <td>03/31/2016 02:45:19 AM</td>\n",
       "      <td>NYPD</td>\n",
       "      <td>New York City Police Department</td>\n",
       "      <td>Blocked Driveway</td>\n",
       "      <td>No Access</td>\n",
       "      <td>Street/Sidewalk</td>\n",
       "      <td>11218</td>\n",
       "      <td>The Police Department issued a summons in resp...</td>\n",
       "      <td>2016-03-31 01:42:59</td>\n",
       "      <td>2016-03-31 02:45:19</td>\n",
       "      <td>0 days 01:02:20.000000000</td>\n",
       "      <td>62.333333</td>\n",
       "    </tr>\n",
       "    <tr>\n",
       "      <th>4</th>\n",
       "      <td>4</td>\n",
       "      <td>33024694</td>\n",
       "      <td>03/31/2016 01:37:16 AM</td>\n",
       "      <td>03/31/2016 02:10:11 AM</td>\n",
       "      <td>NYPD</td>\n",
       "      <td>New York City Police Department</td>\n",
       "      <td>Illegal Parking</td>\n",
       "      <td>Blocked Hydrant</td>\n",
       "      <td>Street/Sidewalk</td>\n",
       "      <td>11365</td>\n",
       "      <td>The Police Department issued a summons in resp...</td>\n",
       "      <td>2016-03-31 01:37:16</td>\n",
       "      <td>2016-03-31 02:10:11</td>\n",
       "      <td>0 days 00:32:55.000000000</td>\n",
       "      <td>32.916667</td>\n",
       "    </tr>\n",
       "  </tbody>\n",
       "</table>\n",
       "</div>"
      ],
      "text/plain": [
       "   Unnamed: 0  Unique Key            Created Date             Closed Date  \\\n",
       "0           0    33022454  03/31/2016 02:10:00 AM  03/31/2016 02:30:31 AM   \n",
       "1           1    33023558  03/31/2016 01:48:58 AM  03/31/2016 03:02:20 AM   \n",
       "2           2    33024431  03/31/2016 01:43:32 AM  03/31/2016 01:55:13 AM   \n",
       "3           3    33024039  03/31/2016 01:42:59 AM  03/31/2016 02:45:19 AM   \n",
       "4           4    33024694  03/31/2016 01:37:16 AM  03/31/2016 02:10:11 AM   \n",
       "\n",
       "  Agency                      Agency Name      Complaint Type  \\\n",
       "0   NYPD  New York City Police Department     Illegal Parking   \n",
       "1   NYPD  New York City Police Department     Illegal Parking   \n",
       "2   NYPD  New York City Police Department  Noise - Commercial   \n",
       "3   NYPD  New York City Police Department    Blocked Driveway   \n",
       "4   NYPD  New York City Police Department     Illegal Parking   \n",
       "\n",
       "                     Descriptor        Location Type Incident Zip  \\\n",
       "0  Commercial Overnight Parking      Street/Sidewalk        11204   \n",
       "1               Blocked Hydrant      Street/Sidewalk        11367   \n",
       "2              Banging/Pounding  Club/Bar/Restaurant        10009   \n",
       "3                     No Access      Street/Sidewalk        11218   \n",
       "4               Blocked Hydrant      Street/Sidewalk        11365   \n",
       "\n",
       "                              Resolution Description           Created_TO  \\\n",
       "0  The Police Department responded to the complai...  2016-03-31 02:10:00   \n",
       "1  The Police Department responded and upon arriv...  2016-03-31 01:48:58   \n",
       "2  The Police Department responded to the complai...  2016-03-31 01:43:32   \n",
       "3  The Police Department issued a summons in resp...  2016-03-31 01:42:59   \n",
       "4  The Police Department issued a summons in resp...  2016-03-31 01:37:16   \n",
       "\n",
       "             Closed_TO                      delta  difference  \n",
       "0  2016-03-31 02:30:31  0 days 00:20:31.000000000   20.516667  \n",
       "1  2016-03-31 03:02:20  0 days 01:13:22.000000000   73.366667  \n",
       "2  2016-03-31 01:55:13  0 days 00:11:41.000000000   11.683333  \n",
       "3  2016-03-31 02:45:19  0 days 01:02:20.000000000   62.333333  \n",
       "4  2016-03-31 02:10:11  0 days 00:32:55.000000000   32.916667  "
      ]
     },
     "execution_count": 4,
     "metadata": {},
     "output_type": "execute_result"
    }
   ],
   "source": [
    "#database=pd.read_pickle('311_time_difference')\n",
    "#database.head()\n",
    "database=pd.read_csv('311_time_difference')\n",
    "database.head()"
   ]
  },
  {
   "cell_type": "code",
   "execution_count": 5,
   "metadata": {
    "collapsed": false
   },
   "outputs": [],
   "source": [
    "#Since originally the data doesn't contain borough or time difference, I'm going to simmulate those attributes\n",
    "#random.seed(42)\n",
    "#database['difference']=np.random.choice(range(1, 1000), database.shape[0])\n",
    "#database['borough']=np.random.choice(range(1,6), database.shape[0])"
   ]
  },
  {
   "cell_type": "code",
   "execution_count": 6,
   "metadata": {
    "collapsed": true
   },
   "outputs": [],
   "source": [
    "cols=[u'Agency',\n",
    "     u'Complaint Type', u'Descriptor', u'Location Type',\n",
    "       u'Incident Zip',u'difference']"
   ]
  },
  {
   "cell_type": "code",
   "execution_count": 7,
   "metadata": {
    "collapsed": false
   },
   "outputs": [
    {
     "data": {
      "text/html": [
       "<div>\n",
       "<table border=\"1\" class=\"dataframe\">\n",
       "  <thead>\n",
       "    <tr style=\"text-align: right;\">\n",
       "      <th></th>\n",
       "      <th>Agency</th>\n",
       "      <th>Complaint Type</th>\n",
       "      <th>Descriptor</th>\n",
       "      <th>Location Type</th>\n",
       "      <th>Incident Zip</th>\n",
       "      <th>difference</th>\n",
       "    </tr>\n",
       "  </thead>\n",
       "  <tbody>\n",
       "    <tr>\n",
       "      <th>0</th>\n",
       "      <td>NYPD</td>\n",
       "      <td>Illegal Parking</td>\n",
       "      <td>Commercial Overnight Parking</td>\n",
       "      <td>Street/Sidewalk</td>\n",
       "      <td>11204</td>\n",
       "      <td>20.516667</td>\n",
       "    </tr>\n",
       "    <tr>\n",
       "      <th>1</th>\n",
       "      <td>NYPD</td>\n",
       "      <td>Illegal Parking</td>\n",
       "      <td>Blocked Hydrant</td>\n",
       "      <td>Street/Sidewalk</td>\n",
       "      <td>11367</td>\n",
       "      <td>73.366667</td>\n",
       "    </tr>\n",
       "    <tr>\n",
       "      <th>2</th>\n",
       "      <td>NYPD</td>\n",
       "      <td>Noise - Commercial</td>\n",
       "      <td>Banging/Pounding</td>\n",
       "      <td>Club/Bar/Restaurant</td>\n",
       "      <td>10009</td>\n",
       "      <td>11.683333</td>\n",
       "    </tr>\n",
       "    <tr>\n",
       "      <th>3</th>\n",
       "      <td>NYPD</td>\n",
       "      <td>Blocked Driveway</td>\n",
       "      <td>No Access</td>\n",
       "      <td>Street/Sidewalk</td>\n",
       "      <td>11218</td>\n",
       "      <td>62.333333</td>\n",
       "    </tr>\n",
       "    <tr>\n",
       "      <th>4</th>\n",
       "      <td>NYPD</td>\n",
       "      <td>Illegal Parking</td>\n",
       "      <td>Blocked Hydrant</td>\n",
       "      <td>Street/Sidewalk</td>\n",
       "      <td>11365</td>\n",
       "      <td>32.916667</td>\n",
       "    </tr>\n",
       "  </tbody>\n",
       "</table>\n",
       "</div>"
      ],
      "text/plain": [
       "  Agency      Complaint Type                    Descriptor  \\\n",
       "0   NYPD     Illegal Parking  Commercial Overnight Parking   \n",
       "1   NYPD     Illegal Parking               Blocked Hydrant   \n",
       "2   NYPD  Noise - Commercial              Banging/Pounding   \n",
       "3   NYPD    Blocked Driveway                     No Access   \n",
       "4   NYPD     Illegal Parking               Blocked Hydrant   \n",
       "\n",
       "         Location Type Incident Zip  difference  \n",
       "0      Street/Sidewalk        11204   20.516667  \n",
       "1      Street/Sidewalk        11367   73.366667  \n",
       "2  Club/Bar/Restaurant        10009   11.683333  \n",
       "3      Street/Sidewalk        11218   62.333333  \n",
       "4      Street/Sidewalk        11365   32.916667  "
      ]
     },
     "execution_count": 7,
     "metadata": {},
     "output_type": "execute_result"
    }
   ],
   "source": [
    "database=database[cols]\n",
    "database.head()"
   ]
  },
  {
   "cell_type": "code",
   "execution_count": 8,
   "metadata": {
    "collapsed": false
   },
   "outputs": [],
   "source": [
    "noise311_cut=database.dropna(axis=0, how='any', thresh=None, subset=None, inplace=False)"
   ]
  },
  {
   "cell_type": "code",
   "execution_count": 9,
   "metadata": {
    "collapsed": true
   },
   "outputs": [],
   "source": [
    "#X = noise311_cut[['Agency','Complaint Type','Descriptor','Location Type','Incident Zip','borough']]\n",
    "#X=noise311_cut[['Agency','Complaint Type','Descriptor','Location Type','borough']]\n",
    "X=noise311_cut[['Agency','Complaint Type','Descriptor','Location Type','Incident Zip']]"
   ]
  },
  {
   "cell_type": "code",
   "execution_count": 10,
   "metadata": {
    "collapsed": true
   },
   "outputs": [],
   "source": [
    "Y=noise311_cut[['difference']]\n",
    "Y=np.array(Y)\n",
    "Y=[item for sublist in Y for item in sublist]"
   ]
  },
  {
   "cell_type": "code",
   "execution_count": null,
   "metadata": {
    "collapsed": false
   },
   "outputs": [],
   "source": [
    "X_dum= pd.get_dummies(X)"
   ]
  },
  {
   "cell_type": "code",
   "execution_count": null,
   "metadata": {
    "collapsed": true
   },
   "outputs": [],
   "source": [
    "from sklearn.cross_validation import train_test_split"
   ]
  },
  {
   "cell_type": "code",
   "execution_count": null,
   "metadata": {
    "collapsed": false
   },
   "outputs": [],
   "source": [
    "X_train,X_test,y_train,y_test = train_test_split(X_dum,Y,test_size=0.33,random_state=990) "
   ]
  },
  {
   "cell_type": "code",
   "execution_count": null,
   "metadata": {
    "collapsed": false
   },
   "outputs": [],
   "source": [
    "Lasso=linear_model.Lasso(fit_intercept=True,alpha=10) #try Ridge with a selected regularization parameter lambda\n",
    "\n",
    "Lasso.fit(X_train,y_train)\n",
    "# In the sample:\n",
    "p_IS=Lasso.predict(X_train)\n",
    "err_IS=p_IS-y_train\n",
    "R_2_IS_Lasso=1-np.var(err_IS)/np.var(y_train)\n",
    "print(\"The R-squared we found for IS Lasso is: {0}\".format(R_2_IS_Lasso))\n",
    "\n",
    "Lasso_coef=Lasso.coef_\n",
    "############################################################################    \n",
    "    \n",
    "#Out of sample\n",
    "p_OS=Lasso.predict(X_test)\n",
    "err_OS=p_OS-y_test\n",
    "R_2_OS_Lasso=1-np.var(err_OS)/np.var(y_test)\n",
    "print(\"The R-squared we found for OS Lasso is: {0}\".format(R_2_OS_Lasso))"
   ]
  },
  {
   "cell_type": "code",
   "execution_count": null,
   "metadata": {
    "collapsed": true
   },
   "outputs": [],
   "source": []
  }
 ],
 "metadata": {
  "kernelspec": {
   "display_name": "Python 2",
   "language": "python",
   "name": "python2"
  }
 },
 "nbformat": 4,
 "nbformat_minor": 0
}

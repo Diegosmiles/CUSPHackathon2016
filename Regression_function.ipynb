{
 "cells": [
  {
   "cell_type": "code",
   "execution_count": 106,
   "metadata": {
    "collapsed": true
   },
   "outputs": [],
   "source": [
    "import pandas as pd\n",
    "import numpy as np\n",
    "import random\n",
    "from sklearn import linear_model"
   ]
  },
  {
   "cell_type": "code",
   "execution_count": 107,
   "metadata": {
    "collapsed": false
   },
   "outputs": [
    {
     "data": {
      "text/html": [
       "<div>\n",
       "<table border=\"1\" class=\"dataframe\">\n",
       "  <thead>\n",
       "    <tr style=\"text-align: right;\">\n",
       "      <th></th>\n",
       "      <th>index</th>\n",
       "      <th>Unique Key</th>\n",
       "      <th>Created Date</th>\n",
       "      <th>Closed Date</th>\n",
       "      <th>Agency</th>\n",
       "      <th>Agency Name</th>\n",
       "      <th>Complaint Type</th>\n",
       "      <th>Descriptor</th>\n",
       "      <th>Location Type</th>\n",
       "      <th>Incident Zip</th>\n",
       "      <th>Resolution Description</th>\n",
       "      <th>Borough</th>\n",
       "      <th>Status</th>\n",
       "      <th>difference</th>\n",
       "    </tr>\n",
       "  </thead>\n",
       "  <tbody>\n",
       "    <tr>\n",
       "      <th>0</th>\n",
       "      <td>0</td>\n",
       "      <td>33022454</td>\n",
       "      <td>03/31/2016 02:10:00 AM</td>\n",
       "      <td>03/31/2016 02:30:31 AM</td>\n",
       "      <td>NYPD</td>\n",
       "      <td>New York City Police Department</td>\n",
       "      <td>Illegal Parking</td>\n",
       "      <td>Commercial Overnight Parking</td>\n",
       "      <td>Street/Sidewalk</td>\n",
       "      <td>11204</td>\n",
       "      <td>The Police Department responded to the complai...</td>\n",
       "      <td>BROOKLYN</td>\n",
       "      <td>Closed</td>\n",
       "      <td>20.516667</td>\n",
       "    </tr>\n",
       "    <tr>\n",
       "      <th>1</th>\n",
       "      <td>1</td>\n",
       "      <td>33023558</td>\n",
       "      <td>03/31/2016 01:48:58 AM</td>\n",
       "      <td>03/31/2016 03:02:20 AM</td>\n",
       "      <td>NYPD</td>\n",
       "      <td>New York City Police Department</td>\n",
       "      <td>Illegal Parking</td>\n",
       "      <td>Blocked Hydrant</td>\n",
       "      <td>Street/Sidewalk</td>\n",
       "      <td>11367</td>\n",
       "      <td>The Police Department responded and upon arriv...</td>\n",
       "      <td>QUEENS</td>\n",
       "      <td>Closed</td>\n",
       "      <td>73.366667</td>\n",
       "    </tr>\n",
       "    <tr>\n",
       "      <th>2</th>\n",
       "      <td>2</td>\n",
       "      <td>33024431</td>\n",
       "      <td>03/31/2016 01:43:32 AM</td>\n",
       "      <td>03/31/2016 01:55:13 AM</td>\n",
       "      <td>NYPD</td>\n",
       "      <td>New York City Police Department</td>\n",
       "      <td>Noise - Commercial</td>\n",
       "      <td>Banging/Pounding</td>\n",
       "      <td>Club/Bar/Restaurant</td>\n",
       "      <td>10009</td>\n",
       "      <td>The Police Department responded to the complai...</td>\n",
       "      <td>MANHATTAN</td>\n",
       "      <td>Closed</td>\n",
       "      <td>11.683333</td>\n",
       "    </tr>\n",
       "    <tr>\n",
       "      <th>3</th>\n",
       "      <td>3</td>\n",
       "      <td>33024039</td>\n",
       "      <td>03/31/2016 01:42:59 AM</td>\n",
       "      <td>03/31/2016 02:45:19 AM</td>\n",
       "      <td>NYPD</td>\n",
       "      <td>New York City Police Department</td>\n",
       "      <td>Blocked Driveway</td>\n",
       "      <td>No Access</td>\n",
       "      <td>Street/Sidewalk</td>\n",
       "      <td>11218</td>\n",
       "      <td>The Police Department issued a summons in resp...</td>\n",
       "      <td>BROOKLYN</td>\n",
       "      <td>Closed</td>\n",
       "      <td>62.333333</td>\n",
       "    </tr>\n",
       "    <tr>\n",
       "      <th>4</th>\n",
       "      <td>4</td>\n",
       "      <td>33024694</td>\n",
       "      <td>03/31/2016 01:37:16 AM</td>\n",
       "      <td>03/31/2016 02:10:11 AM</td>\n",
       "      <td>NYPD</td>\n",
       "      <td>New York City Police Department</td>\n",
       "      <td>Illegal Parking</td>\n",
       "      <td>Blocked Hydrant</td>\n",
       "      <td>Street/Sidewalk</td>\n",
       "      <td>11365</td>\n",
       "      <td>The Police Department issued a summons in resp...</td>\n",
       "      <td>QUEENS</td>\n",
       "      <td>Closed</td>\n",
       "      <td>32.916667</td>\n",
       "    </tr>\n",
       "  </tbody>\n",
       "</table>\n",
       "</div>"
      ],
      "text/plain": [
       "   index  Unique Key            Created Date             Closed Date Agency  \\\n",
       "0      0    33022454  03/31/2016 02:10:00 AM  03/31/2016 02:30:31 AM   NYPD   \n",
       "1      1    33023558  03/31/2016 01:48:58 AM  03/31/2016 03:02:20 AM   NYPD   \n",
       "2      2    33024431  03/31/2016 01:43:32 AM  03/31/2016 01:55:13 AM   NYPD   \n",
       "3      3    33024039  03/31/2016 01:42:59 AM  03/31/2016 02:45:19 AM   NYPD   \n",
       "4      4    33024694  03/31/2016 01:37:16 AM  03/31/2016 02:10:11 AM   NYPD   \n",
       "\n",
       "                       Agency Name      Complaint Type  \\\n",
       "0  New York City Police Department     Illegal Parking   \n",
       "1  New York City Police Department     Illegal Parking   \n",
       "2  New York City Police Department  Noise - Commercial   \n",
       "3  New York City Police Department    Blocked Driveway   \n",
       "4  New York City Police Department     Illegal Parking   \n",
       "\n",
       "                     Descriptor        Location Type Incident Zip  \\\n",
       "0  Commercial Overnight Parking      Street/Sidewalk        11204   \n",
       "1               Blocked Hydrant      Street/Sidewalk        11367   \n",
       "2              Banging/Pounding  Club/Bar/Restaurant        10009   \n",
       "3                     No Access      Street/Sidewalk        11218   \n",
       "4               Blocked Hydrant      Street/Sidewalk        11365   \n",
       "\n",
       "                              Resolution Description    Borough  Status  \\\n",
       "0  The Police Department responded to the complai...   BROOKLYN  Closed   \n",
       "1  The Police Department responded and upon arriv...     QUEENS  Closed   \n",
       "2  The Police Department responded to the complai...  MANHATTAN  Closed   \n",
       "3  The Police Department issued a summons in resp...   BROOKLYN  Closed   \n",
       "4  The Police Department issued a summons in resp...     QUEENS  Closed   \n",
       "\n",
       "   difference  \n",
       "0   20.516667  \n",
       "1   73.366667  \n",
       "2   11.683333  \n",
       "3   62.333333  \n",
       "4   32.916667  "
      ]
     },
     "execution_count": 107,
     "metadata": {},
     "output_type": "execute_result"
    }
   ],
   "source": [
    "database=pd.read_pickle('311_clean.pkl')\n",
    "database.head()\n",
    "#database=pd.read_csv('311_time_difference')\n",
    "#database.head()"
   ]
  },
  {
   "cell_type": "code",
   "execution_count": 108,
   "metadata": {
    "collapsed": false
   },
   "outputs": [],
   "source": [
    "#Since originally the data doesn't contain borough or time difference, I'm going to simmulate those attributes\n",
    "#random.seed(42)\n",
    "#database['difference']=np.random.choice(range(1, 1000), database.shape[0])\n",
    "#database['borough']=np.random.choice(range(1,6), database.shape[0])"
   ]
  },
  {
   "cell_type": "code",
   "execution_count": 109,
   "metadata": {
    "collapsed": true
   },
   "outputs": [],
   "source": [
    "cols=[u'Agency',\n",
    "     u'Complaint Type', u'Descriptor', u'Location Type',\n",
    "       u'Incident Zip','difference']"
   ]
  },
  {
   "cell_type": "code",
   "execution_count": 110,
   "metadata": {
    "collapsed": false
   },
   "outputs": [
    {
     "data": {
      "text/html": [
       "<div>\n",
       "<table border=\"1\" class=\"dataframe\">\n",
       "  <thead>\n",
       "    <tr style=\"text-align: right;\">\n",
       "      <th></th>\n",
       "      <th>Agency</th>\n",
       "      <th>Complaint Type</th>\n",
       "      <th>Descriptor</th>\n",
       "      <th>Location Type</th>\n",
       "      <th>Incident Zip</th>\n",
       "      <th>difference</th>\n",
       "    </tr>\n",
       "  </thead>\n",
       "  <tbody>\n",
       "    <tr>\n",
       "      <th>0</th>\n",
       "      <td>NYPD</td>\n",
       "      <td>Illegal Parking</td>\n",
       "      <td>Commercial Overnight Parking</td>\n",
       "      <td>Street/Sidewalk</td>\n",
       "      <td>11204</td>\n",
       "      <td>20.516667</td>\n",
       "    </tr>\n",
       "    <tr>\n",
       "      <th>1</th>\n",
       "      <td>NYPD</td>\n",
       "      <td>Illegal Parking</td>\n",
       "      <td>Blocked Hydrant</td>\n",
       "      <td>Street/Sidewalk</td>\n",
       "      <td>11367</td>\n",
       "      <td>73.366667</td>\n",
       "    </tr>\n",
       "    <tr>\n",
       "      <th>2</th>\n",
       "      <td>NYPD</td>\n",
       "      <td>Noise - Commercial</td>\n",
       "      <td>Banging/Pounding</td>\n",
       "      <td>Club/Bar/Restaurant</td>\n",
       "      <td>10009</td>\n",
       "      <td>11.683333</td>\n",
       "    </tr>\n",
       "    <tr>\n",
       "      <th>3</th>\n",
       "      <td>NYPD</td>\n",
       "      <td>Blocked Driveway</td>\n",
       "      <td>No Access</td>\n",
       "      <td>Street/Sidewalk</td>\n",
       "      <td>11218</td>\n",
       "      <td>62.333333</td>\n",
       "    </tr>\n",
       "    <tr>\n",
       "      <th>4</th>\n",
       "      <td>NYPD</td>\n",
       "      <td>Illegal Parking</td>\n",
       "      <td>Blocked Hydrant</td>\n",
       "      <td>Street/Sidewalk</td>\n",
       "      <td>11365</td>\n",
       "      <td>32.916667</td>\n",
       "    </tr>\n",
       "  </tbody>\n",
       "</table>\n",
       "</div>"
      ],
      "text/plain": [
       "  Agency      Complaint Type                    Descriptor  \\\n",
       "0   NYPD     Illegal Parking  Commercial Overnight Parking   \n",
       "1   NYPD     Illegal Parking               Blocked Hydrant   \n",
       "2   NYPD  Noise - Commercial              Banging/Pounding   \n",
       "3   NYPD    Blocked Driveway                     No Access   \n",
       "4   NYPD     Illegal Parking               Blocked Hydrant   \n",
       "\n",
       "         Location Type Incident Zip  difference  \n",
       "0      Street/Sidewalk        11204   20.516667  \n",
       "1      Street/Sidewalk        11367   73.366667  \n",
       "2  Club/Bar/Restaurant        10009   11.683333  \n",
       "3      Street/Sidewalk        11218   62.333333  \n",
       "4      Street/Sidewalk        11365   32.916667  "
      ]
     },
     "execution_count": 110,
     "metadata": {},
     "output_type": "execute_result"
    }
   ],
   "source": [
    "database=database[cols]\n",
    "database.head()"
   ]
  },
  {
   "cell_type": "code",
   "execution_count": 111,
   "metadata": {
    "collapsed": false
   },
   "outputs": [],
   "source": [
    "noise311_cut=database.dropna(axis=0, how='any', thresh=None, subset=None, inplace=False)"
   ]
  },
  {
   "cell_type": "code",
   "execution_count": 112,
   "metadata": {
    "collapsed": true
   },
   "outputs": [],
   "source": [
    "x1 = noise311_cut.sample(10000)"
   ]
  },
  {
   "cell_type": "code",
   "execution_count": 113,
   "metadata": {
    "collapsed": true
   },
   "outputs": [],
   "source": [
    "#X = noise311_cut[['Agency','Complaint Type','Descriptor','Location Type','Incident Zip','borough']]\n",
    "#X=noise311_cut[['Agency','Complaint Type','Descriptor','Location Type','borough']]\n",
    "X=x1[['Agency','Complaint Type','Descriptor','Location Type','Incident Zip']]"
   ]
  },
  {
   "cell_type": "code",
   "execution_count": 114,
   "metadata": {
    "collapsed": false
   },
   "outputs": [],
   "source": [
    "Y=x1['difference'].as_matrix()\n",
    "#Y=np.array(Y)\n",
    "#Y=[item for sublist in Y for item in sublist]"
   ]
  },
  {
   "cell_type": "code",
   "execution_count": 115,
   "metadata": {
    "collapsed": true
   },
   "outputs": [],
   "source": [
    "x1 = noise311_cut.sample(10000)"
   ]
  },
  {
   "cell_type": "code",
   "execution_count": 116,
   "metadata": {
    "collapsed": false
   },
   "outputs": [],
   "source": [
    "X_dum= pd.get_dummies(X)"
   ]
  },
  {
   "cell_type": "code",
   "execution_count": 117,
   "metadata": {
    "collapsed": true
   },
   "outputs": [],
   "source": [
    "from sklearn.cross_validation import train_test_split"
   ]
  },
  {
   "cell_type": "code",
   "execution_count": 118,
   "metadata": {
    "collapsed": false
   },
   "outputs": [],
   "source": [
    "X_train,X_test,y_train,y_test = train_test_split(X_dum,Y,test_size=0.33,random_state=990) "
   ]
  },
  {
   "cell_type": "code",
   "execution_count": 119,
   "metadata": {
    "collapsed": false
   },
   "outputs": [
    {
     "name": "stdout",
     "output_type": "stream",
     "text": [
      "The R-squared we found for IS Lasso is: 0.416279502508\n",
      "The R-squared we found for OS Lasso is: 0.392463526912\n"
     ]
    }
   ],
   "source": [
    "Lasso=linear_model.Lasso(fit_intercept=True,alpha=12) #try Ridge with a selected regularization parameter lambda\n",
    "\n",
    "Lasso.fit(X_train,y_train)\n",
    "# In the sample:\n",
    "p_IS=Lasso.predict(X_train)\n",
    "err_IS=p_IS-y_train\n",
    "R_2_IS_Lasso=1-np.var(err_IS)/np.var(y_train)\n",
    "print(\"The R-squared we found for IS Lasso is: {0}\".format(R_2_IS_Lasso))\n",
    "\n",
    "Lasso_coef=Lasso.coef_\n",
    "############################################################################    \n",
    "    \n",
    "#Out of sample\n",
    "p_OS=Lasso.predict(X_test)\n",
    "err_OS=p_OS-y_test\n",
    "R_2_OS_Lasso=1-np.var(err_OS)/np.var(y_test)\n",
    "print(\"The R-squared we found for OS Lasso is: {0}\".format(R_2_OS_Lasso))"
   ]
  },
  {
   "cell_type": "markdown",
   "metadata": {},
   "source": [
    "##Lambda=10!! Future work: calibrate (although as long as we could see it, there's not too much difference"
   ]
  },
  {
   "cell_type": "code",
   "execution_count": 120,
   "metadata": {
    "collapsed": false
   },
   "outputs": [
    {
     "name": "stdout",
     "output_type": "stream",
     "text": [
      "{'std': 0.020861551818534607, 'max': 0.42507394146958621, 'min': 0.33991727725615195, 'mean': 0.38316111448008933}\n"
     ]
    }
   ],
   "source": [
    "IS_rq=[]\n",
    "OS_rq=[]\n",
    "for i in range(1,51): \n",
    "    noise311_cut=database.dropna(axis=0, how='any', thresh=None, subset=None, inplace=False)\n",
    "    np.random.seed()\n",
    "    x1 = noise311_cut.sample(10000,random_state=10*i)\n",
    "    X=x1[['Agency','Complaint Type','Descriptor','Location Type','Incident Zip']]\n",
    "    Y=x1['difference'].as_matrix()\n",
    "    X_dum= pd.get_dummies(X)\n",
    "    X_train,X_test,y_train,y_test = train_test_split(X_dum,Y,test_size=0.33,random_state=990) \n",
    "    Lasso=linear_model.Lasso(fit_intercept=True,alpha=10) #try Ridge with a selected regularization parameter lambda\n",
    "    Lasso.fit(X_train,y_train)\n",
    "    # In the sample:\n",
    "    p_IS=Lasso.predict(X_train)\n",
    "    err_IS=p_IS-y_train\n",
    "    R_2_IS_Lasso=1-np.var(err_IS)/np.var(y_train)\n",
    "    Lasso_coef=Lasso.coef_\n",
    "    #Out of sample\n",
    "    p_OS=Lasso.predict(X_test)\n",
    "    err_OS=p_OS-y_test\n",
    "    R_2_OS_Lasso=1-np.var(err_OS)/np.var(y_test)\n",
    "    IS_rq.append(R_2_IS_Lasso)\n",
    "    OS_rq.append(R_2_OS_Lasso)\n",
    "print {'mean':np.mean(OS_rq),'min':np.min(OS_rq),'max':np.max(OS_rq),'std':np.std(OS_rq)}"
   ]
  },
  {
   "cell_type": "markdown",
   "metadata": {},
   "source": [
    "WITH DIfferent lambdas:"
   ]
  },
  {
   "cell_type": "code",
   "execution_count": 105,
   "metadata": {
    "collapsed": false
   },
   "outputs": [
    {
     "ename": "KeyboardInterrupt",
     "evalue": "",
     "output_type": "error",
     "traceback": [
      "\u001b[1;31m---------------------------------------------------------------------------\u001b[0m",
      "\u001b[1;31mKeyboardInterrupt\u001b[0m                         Traceback (most recent call last)",
      "\u001b[1;32m<ipython-input-105-4b886ff2c667>\u001b[0m in \u001b[0;36m<module>\u001b[1;34m()\u001b[0m\n\u001b[0;32m     15\u001b[0m         \u001b[0mX_train\u001b[0m\u001b[1;33m,\u001b[0m\u001b[0mX_test\u001b[0m\u001b[1;33m,\u001b[0m\u001b[0my_train\u001b[0m\u001b[1;33m,\u001b[0m\u001b[0my_test\u001b[0m \u001b[1;33m=\u001b[0m \u001b[0mtrain_test_split\u001b[0m\u001b[1;33m(\u001b[0m\u001b[0mX_dum\u001b[0m\u001b[1;33m,\u001b[0m\u001b[0mY\u001b[0m\u001b[1;33m,\u001b[0m\u001b[0mtest_size\u001b[0m\u001b[1;33m=\u001b[0m\u001b[1;36m0.33\u001b[0m\u001b[1;33m,\u001b[0m\u001b[0mrandom_state\u001b[0m\u001b[1;33m=\u001b[0m\u001b[1;36m990\u001b[0m\u001b[1;33m)\u001b[0m\u001b[1;33m\u001b[0m\u001b[0m\n\u001b[0;32m     16\u001b[0m         \u001b[0mLasso\u001b[0m\u001b[1;33m=\u001b[0m\u001b[0mlinear_model\u001b[0m\u001b[1;33m.\u001b[0m\u001b[0mLasso\u001b[0m\u001b[1;33m(\u001b[0m\u001b[0mfit_intercept\u001b[0m\u001b[1;33m=\u001b[0m\u001b[0mTrue\u001b[0m\u001b[1;33m,\u001b[0m\u001b[0malpha\u001b[0m\u001b[1;33m=\u001b[0m\u001b[0malp\u001b[0m\u001b[1;33m)\u001b[0m \u001b[1;31m#try Ridge with a selected regularization parameter lambda\u001b[0m\u001b[1;33m\u001b[0m\u001b[0m\n\u001b[1;32m---> 17\u001b[1;33m         \u001b[0mLasso\u001b[0m\u001b[1;33m.\u001b[0m\u001b[0mfit\u001b[0m\u001b[1;33m(\u001b[0m\u001b[0mX_train\u001b[0m\u001b[1;33m,\u001b[0m\u001b[0my_train\u001b[0m\u001b[1;33m)\u001b[0m\u001b[1;33m\u001b[0m\u001b[0m\n\u001b[0m\u001b[0;32m     18\u001b[0m         \u001b[1;31m# In the sample:\u001b[0m\u001b[1;33m\u001b[0m\u001b[1;33m\u001b[0m\u001b[0m\n\u001b[0;32m     19\u001b[0m         \u001b[0mp_IS\u001b[0m\u001b[1;33m=\u001b[0m\u001b[0mLasso\u001b[0m\u001b[1;33m.\u001b[0m\u001b[0mpredict\u001b[0m\u001b[1;33m(\u001b[0m\u001b[0mX_train\u001b[0m\u001b[1;33m)\u001b[0m\u001b[1;33m\u001b[0m\u001b[0m\n",
      "\u001b[1;32mC:\\Users\\Marco\\Anaconda\\lib\\site-packages\\sklearn\\linear_model\\coordinate_descent.pyc\u001b[0m in \u001b[0;36mfit\u001b[1;34m(self, X, y)\u001b[0m\n\u001b[0;32m    671\u001b[0m                           \u001b[0mcoef_init\u001b[0m\u001b[1;33m=\u001b[0m\u001b[0mcoef_\u001b[0m\u001b[1;33m[\u001b[0m\u001b[0mk\u001b[0m\u001b[1;33m]\u001b[0m\u001b[1;33m,\u001b[0m \u001b[0mmax_iter\u001b[0m\u001b[1;33m=\u001b[0m\u001b[0mself\u001b[0m\u001b[1;33m.\u001b[0m\u001b[0mmax_iter\u001b[0m\u001b[1;33m,\u001b[0m\u001b[1;33m\u001b[0m\u001b[0m\n\u001b[0;32m    672\u001b[0m                           \u001b[0mrandom_state\u001b[0m\u001b[1;33m=\u001b[0m\u001b[0mself\u001b[0m\u001b[1;33m.\u001b[0m\u001b[0mrandom_state\u001b[0m\u001b[1;33m,\u001b[0m\u001b[1;33m\u001b[0m\u001b[0m\n\u001b[1;32m--> 673\u001b[1;33m                           selection=self.selection)\n\u001b[0m\u001b[0;32m    674\u001b[0m             \u001b[0mcoef_\u001b[0m\u001b[1;33m[\u001b[0m\u001b[0mk\u001b[0m\u001b[1;33m]\u001b[0m \u001b[1;33m=\u001b[0m \u001b[0mthis_coef\u001b[0m\u001b[1;33m[\u001b[0m\u001b[1;33m:\u001b[0m\u001b[1;33m,\u001b[0m \u001b[1;36m0\u001b[0m\u001b[1;33m]\u001b[0m\u001b[1;33m\u001b[0m\u001b[0m\n\u001b[0;32m    675\u001b[0m             \u001b[0mdual_gaps_\u001b[0m\u001b[1;33m[\u001b[0m\u001b[0mk\u001b[0m\u001b[1;33m]\u001b[0m \u001b[1;33m=\u001b[0m \u001b[0mthis_dual_gap\u001b[0m\u001b[1;33m[\u001b[0m\u001b[1;36m0\u001b[0m\u001b[1;33m]\u001b[0m\u001b[1;33m\u001b[0m\u001b[0m\n",
      "\u001b[1;32mC:\\Users\\Marco\\Anaconda\\lib\\site-packages\\sklearn\\linear_model\\coordinate_descent.pyc\u001b[0m in \u001b[0;36menet_path\u001b[1;34m(X, y, l1_ratio, eps, n_alphas, alphas, precompute, Xy, copy_X, coef_init, verbose, return_n_iter, positive, **params)\u001b[0m\n\u001b[0;32m    430\u001b[0m             model = cd_fast.enet_coordinate_descent(\n\u001b[0;32m    431\u001b[0m                 \u001b[0mcoef_\u001b[0m\u001b[1;33m,\u001b[0m \u001b[0ml1_reg\u001b[0m\u001b[1;33m,\u001b[0m \u001b[0ml2_reg\u001b[0m\u001b[1;33m,\u001b[0m \u001b[0mX\u001b[0m\u001b[1;33m,\u001b[0m \u001b[0my\u001b[0m\u001b[1;33m,\u001b[0m \u001b[0mmax_iter\u001b[0m\u001b[1;33m,\u001b[0m \u001b[0mtol\u001b[0m\u001b[1;33m,\u001b[0m \u001b[0mrng\u001b[0m\u001b[1;33m,\u001b[0m \u001b[0mrandom\u001b[0m\u001b[1;33m,\u001b[0m\u001b[1;33m\u001b[0m\u001b[0m\n\u001b[1;32m--> 432\u001b[1;33m                 positive)\n\u001b[0m\u001b[0;32m    433\u001b[0m         \u001b[1;32melse\u001b[0m\u001b[1;33m:\u001b[0m\u001b[1;33m\u001b[0m\u001b[0m\n\u001b[0;32m    434\u001b[0m             raise ValueError(\"Precompute should be one of True, False, \"\n",
      "\u001b[1;31mKeyboardInterrupt\u001b[0m: "
     ]
    }
   ],
   "source": [
    "results={}\n",
    "for alp in range(6,40,2):\n",
    "    IS_rq=[]\n",
    "    OS_rq=[]\n",
    "    results[alp]={}\n",
    "    for i in range(1,51): \n",
    "        noise311_cut=database.dropna(axis=0, how='any', thresh=None, subset=None, inplace=False)\n",
    "        np.random.seed()\n",
    "        x1 = noise311_cut.sample(10000,random_state=10*i)\n",
    "        X=x1[['Agency','Complaint Type','Descriptor','Location Type','Incident Zip']]\n",
    "        Y=x1['difference'].as_matrix()\n",
    "        #Y=np.array(Y)\n",
    "        #Y=[item for sublist in Y for item in sublist]\n",
    "        X_dum= pd.get_dummies(X)\n",
    "        X_train,X_test,y_train,y_test = train_test_split(X_dum,Y,test_size=0.33,random_state=990) \n",
    "        Lasso=linear_model.Lasso(fit_intercept=True,alpha=alp) #try Ridge with a selected regularization parameter lambda\n",
    "        Lasso.fit(X_train,y_train)\n",
    "        # In the sample:\n",
    "        p_IS=Lasso.predict(X_train)\n",
    "        err_IS=p_IS-y_train\n",
    "        R_2_IS_Lasso=1-np.var(err_IS)/np.var(y_train)\n",
    "        Lasso_coef=Lasso.coef_\n",
    "        #Out of sample\n",
    "        p_OS=Lasso.predict(X_test)\n",
    "        err_OS=p_OS-y_test\n",
    "        R_2_OS_Lasso=1-np.var(err_OS)/np.var(y_test)\n",
    "        IS_rq.append(R_2_IS_Lasso)\n",
    "        OS_rq.append(R_2_OS_Lasso)\n",
    "    results[alp]={'mean':np.mean(OS_rq),'min':np.min(OS_rq),'max':np.max(OS_rq),'std':np.std(OS_rq)}\n",
    "    print {'mean':np.mean(OS_rq),'min':np.min(OS_rq),'max':np.max(OS_rq),'std':np.std(OS_rq)}"
   ]
  },
  {
   "cell_type": "code",
   "execution_count": null,
   "metadata": {
    "collapsed": true
   },
   "outputs": [],
   "source": []
  }
 ],
 "metadata": {
  "kernelspec": {
   "display_name": "Python 2",
   "language": "python",
   "name": "python2"
  }
 },
 "nbformat": 4,
 "nbformat_minor": 0
}

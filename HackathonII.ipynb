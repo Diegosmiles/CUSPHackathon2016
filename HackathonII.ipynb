{
 "cells": [
  {
   "cell_type": "code",
   "execution_count": 1,
   "metadata": {
    "collapsed": true
   },
   "outputs": [],
   "source": [
    "import pandas as pd\n",
    "import numpy as np\n",
    "import multiprocessing as mp\n",
    "from sklearn.naive_bayes import GaussianNB\n",
    "from sklearn.metrics import accuracy_score\n",
    "from sklearn import svm\n",
    "from sklearn.cross_validation import KFold\n",
    "from sklearn.cross_validation import train_test_split\n",
    "from scipy import stats\n",
    "from sklearn.ensemble import RandomForestClassifier\n",
    "from sklearn.metrics import confusion_matrix\n",
    "from sklearn.metrics import mean_squared_error\n",
    "from sklearn.metrics import accuracy_score"
   ]
  },
  {
   "cell_type": "code",
   "execution_count": 35,
   "metadata": {
    "collapsed": false
   },
   "outputs": [],
   "source": [
    "df = pd.read_pickle('311_clean.pkl')\n",
    "# For inconsistent data\n",
    "#df = df[(df['difference']>0)&(df.Status!='Open')]\n",
    "for i in ['Agency','Complaint Type','Location Type','Incident Zip','Borough']:\n",
    "    t = pd.Categorical(df[i])\n",
    "    df[i] = t.labels\n",
    "df['Location Type'] = df['Location Type']+1\n",
    "df['Incident Zip'] = df['Incident Zip']+1\n",
    "df['Time'] = pd.qcut(df['difference'], 8, labels=np.arange(1,9,1))"
   ]
  },
  {
   "cell_type": "code",
   "execution_count": 36,
   "metadata": {
    "collapsed": false
   },
   "outputs": [
    {
     "name": "stdout",
     "output_type": "stream",
     "text": [
      "<class 'pandas.core.frame.DataFrame'>\n",
      "Int64Index: 591216 entries, 0 to 591215\n",
      "Data columns (total 18 columns):\n",
      "index                     591216 non-null int64\n",
      "Unique Key                591216 non-null int64\n",
      "Created Date              591216 non-null object\n",
      "Closed Date               591216 non-null object\n",
      "Agency                    591216 non-null int8\n",
      "Agency Name               591216 non-null object\n",
      "Complaint Type            591216 non-null int16\n",
      "Descriptor                588073 non-null object\n",
      "Location Type             591216 non-null int8\n",
      "Incident Zip              591216 non-null int16\n",
      "Resolution Description    412357 non-null object\n",
      "Borough                   591216 non-null int8\n",
      "Status                    591216 non-null object\n",
      "Created_TO                591216 non-null datetime64[ns]\n",
      "Closed_TO                 591216 non-null datetime64[ns]\n",
      "delta                     591216 non-null timedelta64[ns]\n",
      "difference                591216 non-null float64\n",
      "Time                      591216 non-null category\n",
      "dtypes: category(1), datetime64[ns](2), float64(1), int16(2), int64(2), int8(3), object(6), timedelta64[ns](1)\n",
      "memory usage: 63.1+ MB\n"
     ]
    }
   ],
   "source": [
    "df.info()"
   ]
  },
  {
   "cell_type": "code",
   "execution_count": 37,
   "metadata": {
    "collapsed": true
   },
   "outputs": [],
   "source": [
    "df = df.sample(n=60000)"
   ]
  },
  {
   "cell_type": "code",
   "execution_count": 38,
   "metadata": {
    "collapsed": false
   },
   "outputs": [],
   "source": [
    "x_train, x_test, y_train, y_test = train_test_split(np.asarray(df[['Agency','Complaint Type','Location Type',\n",
    "                'Incident Zip','Borough']]), np.asarray(df.Time), test_size=0.30)"
   ]
  },
  {
   "cell_type": "code",
   "execution_count": 39,
   "metadata": {
    "collapsed": false
   },
   "outputs": [],
   "source": [
    "x_train, x_valid, y_train, y_valid  = train_test_split(x_train, y_train, test_size=0.30)"
   ]
  },
  {
   "cell_type": "code",
   "execution_count": 40,
   "metadata": {
    "collapsed": false
   },
   "outputs": [],
   "source": [
    "# Random Forest\n",
    "def RF(x_train,y_train,x_test,y_test,n,summary=False):\n",
    "    rf = RandomForestClassifier(n_estimators = n)\n",
    "    rf.fit(x_train, y_train)\n",
    "    y_pred_test = rf.predict(x_test)\n",
    "    y_pred_train = rf.predict(x_train)\n",
    "    if summary==True:\n",
    "        print y_pred_test.shape\n",
    "        cm = confusion_matrix(y_test, y_pred_test)\n",
    "        print cm.shape\n",
    "        RFcm = cm\n",
    "        rfMSE = mean_squared_error(y_test, y_pred_test)\n",
    "\n",
    "        rfACC = (float(cm[0][0] + cm[1][1] + cm[2][2] + cm[3][3] + cm[4][4] + cm[5][5] + cm[6][6] + cm[7][7])) / (len(y_pred_test))\n",
    "\n",
    "        print \"The Accuracy Rate is\", rfACC\n",
    "        print \"The Mean Squared Error is\", rfMSE\n",
    "        print \"The confusion matrix is:\"\n",
    "        pd.crosstab(y_test, y_pred_test, rownames=['True'], colnames=['Predicted'], margins=True)\n",
    "    tr = 100.0*accuracy_score(y_train,y_pred_train)\n",
    "    te = 100.0*accuracy_score(y_test,y_pred_test) \n",
    "    return tr,te"
   ]
  },
  {
   "cell_type": "code",
   "execution_count": 41,
   "metadata": {
    "collapsed": false
   },
   "outputs": [],
   "source": [
    "performance = {}\n",
    "for i in range(30):\n",
    "    i += 1\n",
    "    a,b = RF(x_train,y_train,x_valid,y_valid,i)\n",
    "    performance[i] = ((a,b))"
   ]
  },
  {
   "cell_type": "code",
   "execution_count": 42,
   "metadata": {
    "collapsed": false
   },
   "outputs": [],
   "source": [
    "ps = pd.DataFrame(performance).T"
   ]
  },
  {
   "cell_type": "code",
   "execution_count": 43,
   "metadata": {
    "collapsed": false
   },
   "outputs": [
    {
     "data": {
      "text/html": [
       "<div>\n",
       "<table border=\"1\" class=\"dataframe\">\n",
       "  <thead>\n",
       "    <tr style=\"text-align: right;\">\n",
       "      <th></th>\n",
       "      <th>0</th>\n",
       "      <th>1</th>\n",
       "    </tr>\n",
       "  </thead>\n",
       "  <tbody>\n",
       "    <tr>\n",
       "      <th>27</th>\n",
       "      <td>62.115646</td>\n",
       "      <td>38.357143</td>\n",
       "    </tr>\n",
       "  </tbody>\n",
       "</table>\n",
       "</div>"
      ],
      "text/plain": [
       "            0          1\n",
       "27  62.115646  38.357143"
      ]
     },
     "execution_count": 43,
     "metadata": {},
     "output_type": "execute_result"
    }
   ],
   "source": [
    "ps[ps[1]==ps[1].max()]"
   ]
  },
  {
   "cell_type": "code",
   "execution_count": 44,
   "metadata": {
    "collapsed": true
   },
   "outputs": [],
   "source": [
    "a,b = RF(x_train,y_train,x_test,y_test,27)"
   ]
  },
  {
   "cell_type": "code",
   "execution_count": 45,
   "metadata": {
    "collapsed": false
   },
   "outputs": [
    {
     "name": "stdout",
     "output_type": "stream",
     "text": [
      "62.1224489796 38.3833333333\n"
     ]
    }
   ],
   "source": [
    "print a,b"
   ]
  }
 ],
 "metadata": {
  "kernelspec": {
   "display_name": "Python 2",
   "language": "python",
   "name": "python2"
  },
  "language_info": {
   "codemirror_mode": {
    "name": "ipython",
    "version": 2
   },
   "file_extension": ".py",
   "mimetype": "text/x-python",
   "name": "python",
   "nbconvert_exporter": "python",
   "pygments_lexer": "ipython2",
   "version": "2.7.11"
  }
 },
 "nbformat": 4,
 "nbformat_minor": 0
}
